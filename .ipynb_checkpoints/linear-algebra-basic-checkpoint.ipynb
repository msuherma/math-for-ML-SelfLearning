{
 "cells": [
  {
   "cell_type": "code",
   "execution_count": 5,
   "id": "advised-white",
   "metadata": {},
   "outputs": [],
   "source": [
    "import numpy as np\n",
    "import tensorflow as tf\n",
    "import torch\n",
    "import matplotlib.pyplot as plt"
   ]
  },
  {
   "cell_type": "code",
   "execution_count": null,
   "id": "suspected-transcript",
   "metadata": {},
   "outputs": [],
   "source": []
  },
  {
   "cell_type": "code",
   "execution_count": null,
   "id": "hollow-locator",
   "metadata": {},
   "outputs": [],
   "source": []
  },
  {
   "cell_type": "code",
   "execution_count": null,
   "id": "maritime-hindu",
   "metadata": {},
   "outputs": [],
   "source": []
  },
  {
   "cell_type": "code",
   "execution_count": null,
   "id": "bright-smoke",
   "metadata": {},
   "outputs": [],
   "source": []
  },
  {
   "cell_type": "code",
   "execution_count": null,
   "id": "annoying-throat",
   "metadata": {},
   "outputs": [],
   "source": []
  },
  {
   "cell_type": "code",
   "execution_count": null,
   "id": "aggregate-workstation",
   "metadata": {},
   "outputs": [],
   "source": []
  },
  {
   "cell_type": "code",
   "execution_count": null,
   "id": "graphic-smell",
   "metadata": {},
   "outputs": [],
   "source": []
  },
  {
   "cell_type": "code",
   "execution_count": null,
   "id": "pediatric-democrat",
   "metadata": {},
   "outputs": [],
   "source": []
  },
  {
   "cell_type": "code",
   "execution_count": null,
   "id": "characteristic-verification",
   "metadata": {},
   "outputs": [],
   "source": []
  },
  {
   "cell_type": "code",
   "execution_count": null,
   "id": "sophisticated-chest",
   "metadata": {},
   "outputs": [],
   "source": []
  },
  {
   "cell_type": "code",
   "execution_count": null,
   "id": "contrary-shore",
   "metadata": {},
   "outputs": [],
   "source": []
  },
  {
   "cell_type": "markdown",
   "id": "perceived-christmas",
   "metadata": {},
   "source": [
    "# Inverse Matrix"
   ]
  },
  {
   "cell_type": "code",
   "execution_count": null,
   "id": "intended-sister",
   "metadata": {},
   "outputs": [],
   "source": []
  },
  {
   "cell_type": "code",
   "execution_count": null,
   "id": "provincial-nation",
   "metadata": {},
   "outputs": [],
   "source": []
  },
  {
   "cell_type": "code",
   "execution_count": null,
   "id": "prospective-equality",
   "metadata": {},
   "outputs": [],
   "source": []
  },
  {
   "cell_type": "code",
   "execution_count": null,
   "id": "confirmed-forest",
   "metadata": {},
   "outputs": [],
   "source": []
  },
  {
   "cell_type": "code",
   "execution_count": null,
   "id": "convenient-petite",
   "metadata": {},
   "outputs": [],
   "source": []
  },
  {
   "cell_type": "code",
   "execution_count": null,
   "id": "strong-prospect",
   "metadata": {},
   "outputs": [],
   "source": []
  },
  {
   "cell_type": "markdown",
   "id": "alternate-british",
   "metadata": {},
   "source": [
    "# Matrix Multiplication\n",
    "\n",
    "We will cover the comparison of doing matrix multiplication using:\n",
    "* Numpy\n",
    "* TensorFlow\n",
    "* PyTorch\n",
    "\n",
    "The Multiplication for the Matrix are classified as follows:\n",
    "- Matrix mult with Vector\n",
    "- Matrix-Matrix Multiplication\n",
    "\n",
    "-------------------------------------------------------------------\n",
    "1. Multiply matrix with vector:\n",
    "\n",
    "A = [[8, 2], [11, 6], [14, 3]]\n",
    "\n",
    "b = [[9],[4]]\n",
    "\n",
    "note that for `Numpy`, there is no particular Matrix to Vector multiplication, we use `np.dot()` to multiply it, with changing b into 1x2 vector from 2x1."
   ]
  },
  {
   "cell_type": "code",
   "execution_count": 3,
   "id": "reserved-mobility",
   "metadata": {},
   "outputs": [
    {
     "data": {
      "text/plain": [
       "array([[ 8,  2],\n",
       "       [11,  6],\n",
       "       [14,  3]])"
      ]
     },
     "execution_count": 3,
     "metadata": {},
     "output_type": "execute_result"
    }
   ],
   "source": [
    "A = np.array([[8, 2], [11, 6], [14, 3]])\n",
    "A"
   ]
  },
  {
   "cell_type": "code",
   "execution_count": 9,
   "id": "rolled-judgment",
   "metadata": {},
   "outputs": [
    {
     "data": {
      "text/plain": [
       "array([9, 4])"
      ]
     },
     "execution_count": 9,
     "metadata": {},
     "output_type": "execute_result"
    }
   ],
   "source": [
    "b = np.array([9,4])\n",
    "b"
   ]
  },
  {
   "cell_type": "code",
   "execution_count": 10,
   "id": "unexpected-exhibit",
   "metadata": {},
   "outputs": [
    {
     "data": {
      "text/plain": [
       "array([ 80, 123, 138])"
      ]
     },
     "execution_count": 10,
     "metadata": {},
     "output_type": "execute_result"
    }
   ],
   "source": [
    "np.dot(A, b)"
   ]
  },
  {
   "cell_type": "markdown",
   "id": "danish-notion",
   "metadata": {},
   "source": [
    "### Using `PyTorch`"
   ]
  },
  {
   "cell_type": "code",
   "execution_count": 12,
   "id": "indirect-courtesy",
   "metadata": {},
   "outputs": [
    {
     "data": {
      "text/plain": [
       "tensor([[ 8,  2],\n",
       "        [11,  6],\n",
       "        [14,  3]])"
      ]
     },
     "execution_count": 12,
     "metadata": {},
     "output_type": "execute_result"
    }
   ],
   "source": [
    "A_pt = torch.tensor([[8, 2], [11, 6], [14, 3]])\n",
    "A_pt"
   ]
  },
  {
   "cell_type": "code",
   "execution_count": 14,
   "id": "copyrighted-tiffany",
   "metadata": {},
   "outputs": [
    {
     "data": {
      "text/plain": [
       "tensor([9, 4])"
      ]
     },
     "execution_count": 14,
     "metadata": {},
     "output_type": "execute_result"
    }
   ],
   "source": [
    "b_pt = torch.tensor([9,4])\n",
    "b_pt"
   ]
  },
  {
   "cell_type": "code",
   "execution_count": 15,
   "id": "recovered-strength",
   "metadata": {},
   "outputs": [
    {
     "data": {
      "text/plain": [
       "tensor([ 80, 123, 138])"
      ]
     },
     "execution_count": 15,
     "metadata": {},
     "output_type": "execute_result"
    }
   ],
   "source": [
    "# Multiplication\n",
    "torch.matmul(A_pt, b_pt)"
   ]
  },
  {
   "cell_type": "markdown",
   "id": "continuing-return",
   "metadata": {},
   "source": [
    "### Using `TensorFlow`"
   ]
  },
  {
   "cell_type": "code",
   "execution_count": 17,
   "id": "polish-broad",
   "metadata": {},
   "outputs": [
    {
     "data": {
      "text/plain": [
       "<tf.Variable 'Variable:0' shape=(3, 2) dtype=int32, numpy=\n",
       "array([[ 8,  2],\n",
       "       [11,  6],\n",
       "       [14,  3]])>"
      ]
     },
     "execution_count": 17,
     "metadata": {},
     "output_type": "execute_result"
    }
   ],
   "source": [
    "A_tf = tf.Variable([[8, 2], [11, 6], [14, 3]])\n",
    "A_tf"
   ]
  },
  {
   "cell_type": "code",
   "execution_count": 20,
   "id": "proved-senegal",
   "metadata": {},
   "outputs": [
    {
     "data": {
      "text/plain": [
       "<tf.Variable 'Variable:0' shape=(2,) dtype=int32, numpy=array([9, 4])>"
      ]
     },
     "execution_count": 20,
     "metadata": {},
     "output_type": "execute_result"
    }
   ],
   "source": [
    "b_tf = tf.Variable([9,4])\n",
    "b_tf"
   ]
  },
  {
   "cell_type": "code",
   "execution_count": 21,
   "id": "minimal-formula",
   "metadata": {},
   "outputs": [
    {
     "data": {
      "text/plain": [
       "<tf.Tensor: shape=(3,), dtype=int32, numpy=array([ 80, 123, 138])>"
      ]
     },
     "execution_count": 21,
     "metadata": {},
     "output_type": "execute_result"
    }
   ],
   "source": [
    "tf.linalg.matvec(A_tf, b_tf)"
   ]
  },
  {
   "cell_type": "markdown",
   "id": "regular-underwear",
   "metadata": {},
   "source": [
    "2. Multiplication `Matrix` by `Matrix`\n",
    "\n",
    "A = [[8, 2], [11, 6], [14, 3]]\n",
    "\n",
    "B = [[9, 7],[4, 5]]\n",
    "\n",
    "> Important Note:\n",
    "> Matrix multiplication is not 'commutative', means AB /= BA. "
   ]
  },
  {
   "cell_type": "code",
   "execution_count": 23,
   "id": "smoking-zimbabwe",
   "metadata": {},
   "outputs": [
    {
     "data": {
      "text/plain": [
       "array([[ 8,  2],\n",
       "       [11,  6],\n",
       "       [14,  3]])"
      ]
     },
     "execution_count": 23,
     "metadata": {},
     "output_type": "execute_result"
    }
   ],
   "source": [
    "# Using A assigned with numpy above\n",
    "A"
   ]
  },
  {
   "cell_type": "code",
   "execution_count": 26,
   "id": "functional-reproduction",
   "metadata": {},
   "outputs": [
    {
     "data": {
      "text/plain": [
       "array([[9, 7],\n",
       "       [4, 5]])"
      ]
     },
     "execution_count": 26,
     "metadata": {},
     "output_type": "execute_result"
    }
   ],
   "source": [
    "# Create 2x2 matrix named 'B'\n",
    "B = np.array([[9, 7],[4, 5]])\n",
    "B"
   ]
  },
  {
   "cell_type": "code",
   "execution_count": 27,
   "id": "piano-theorem",
   "metadata": {},
   "outputs": [
    {
     "data": {
      "text/plain": [
       "array([[ 80,  66],\n",
       "       [123, 107],\n",
       "       [138, 113]])"
      ]
     },
     "execution_count": 27,
     "metadata": {},
     "output_type": "execute_result"
    }
   ],
   "source": [
    "np.dot(A,B)"
   ]
  },
  {
   "cell_type": "code",
   "execution_count": 29,
   "id": "parental-geology",
   "metadata": {},
   "outputs": [],
   "source": [
    "#np.dot(B,A) # This code will generate error, check the important note above"
   ]
  },
  {
   "cell_type": "code",
   "execution_count": 50,
   "id": "enclosed-thanks",
   "metadata": {},
   "outputs": [],
   "source": [
    "# A_pt is taken from above\n",
    "B_pt = torch.from_numpy(B)"
   ]
  },
  {
   "cell_type": "code",
   "execution_count": 54,
   "id": "comparative-retailer",
   "metadata": {},
   "outputs": [
    {
     "data": {
      "text/plain": [
       "tensor([[9, 7],\n",
       "        [4, 5]])"
      ]
     },
     "execution_count": 54,
     "metadata": {},
     "output_type": "execute_result"
    }
   ],
   "source": [
    "B_pt = torch.tensor([[9, 7],[4, 5]])\n",
    "B_pt"
   ]
  },
  {
   "cell_type": "code",
   "execution_count": 55,
   "id": "tamil-providence",
   "metadata": {},
   "outputs": [
    {
     "data": {
      "text/plain": [
       "tensor([[ 80,  66],\n",
       "        [123, 107],\n",
       "        [138, 113]])"
      ]
     },
     "execution_count": 55,
     "metadata": {},
     "output_type": "execute_result"
    }
   ],
   "source": [
    "torch.matmul(A_pt, B_pt) # same function, TensorFlow has different function"
   ]
  },
  {
   "cell_type": "code",
   "execution_count": 45,
   "id": "victorian-diversity",
   "metadata": {},
   "outputs": [
    {
     "data": {
      "text/plain": [
       "torch.Tensor"
      ]
     },
     "execution_count": 45,
     "metadata": {},
     "output_type": "execute_result"
    }
   ],
   "source": [
    "type(B_pt)"
   ]
  },
  {
   "cell_type": "markdown",
   "id": "mexican-routine",
   "metadata": {},
   "source": [
    "### Using `TensorFlow`"
   ]
  },
  {
   "cell_type": "code",
   "execution_count": 48,
   "id": "manufactured-world",
   "metadata": {},
   "outputs": [
    {
     "data": {
      "text/plain": [
       "<tf.Tensor: shape=(2, 2), dtype=int32, numpy=\n",
       "array([[9, 7],\n",
       "       [4, 5]])>"
      ]
     },
     "execution_count": 48,
     "metadata": {},
     "output_type": "execute_result"
    }
   ],
   "source": [
    "# A_tf is taken from A_tf above\n",
    "B_tf = tf.convert_to_tensor(B, dtype=tf.int32)\n",
    "B_tf"
   ]
  },
  {
   "cell_type": "code",
   "execution_count": 56,
   "id": "likely-today",
   "metadata": {},
   "outputs": [
    {
     "data": {
      "text/plain": [
       "<tf.Tensor: shape=(3, 2), dtype=int32, numpy=\n",
       "array([[ 80,  66],\n",
       "       [123, 107],\n",
       "       [138, 113]])>"
      ]
     },
     "execution_count": 56,
     "metadata": {},
     "output_type": "execute_result"
    }
   ],
   "source": [
    "tf.matmul(A_tf, B_tf)"
   ]
  },
  {
   "cell_type": "code",
   "execution_count": null,
   "id": "arranged-gentleman",
   "metadata": {},
   "outputs": [],
   "source": [
    "# Symmetric and Identity Matrices\n",
    "\n",
    "1. Symmetric Matrices is: \n",
    "    * square; \n",
    "    * X^T = X; "
   ]
  },
  {
   "cell_type": "code",
   "execution_count": 59,
   "id": "binding-smooth",
   "metadata": {},
   "outputs": [
    {
     "data": {
      "text/plain": [
       "array([[0, 1, 2],\n",
       "       [1, 3, 4],\n",
       "       [2, 4, 5]])"
      ]
     },
     "execution_count": 59,
     "metadata": {},
     "output_type": "execute_result"
    }
   ],
   "source": [
    "X_sym = np.array([[0, 1, 2],[1, 3, 4], [2, 4, 5]])\n",
    "X_sym"
   ]
  },
  {
   "cell_type": "code",
   "execution_count": 60,
   "id": "informal-collapse",
   "metadata": {},
   "outputs": [
    {
     "data": {
      "text/plain": [
       "array([[0, 1, 2],\n",
       "       [1, 3, 4],\n",
       "       [2, 4, 5]])"
      ]
     },
     "execution_count": 60,
     "metadata": {},
     "output_type": "execute_result"
    }
   ],
   "source": [
    "X_sym.T"
   ]
  },
  {
   "cell_type": "code",
   "execution_count": 61,
   "id": "liberal-minutes",
   "metadata": {},
   "outputs": [
    {
     "data": {
      "text/plain": [
       "array([[ True,  True,  True],\n",
       "       [ True,  True,  True],\n",
       "       [ True,  True,  True]])"
      ]
     },
     "execution_count": 61,
     "metadata": {},
     "output_type": "execute_result"
    }
   ],
   "source": [
    "X_sym.T == X_sym"
   ]
  },
  {
   "cell_type": "markdown",
   "id": "arbitrary-telephone",
   "metadata": {},
   "source": [
    "# Identity Matrix\n",
    "\n",
    "Identity Matrix simply a symmetric matrix which has following properties:\n",
    "\n",
    "* Every element along main diagonal is 1;\n",
    "* All other elements are 0;\n",
    "* Notation: ___In___ where n = height (width);\n",
    "* n-length vector unchaged if multiplied by  ___In___"
   ]
  },
  {
   "cell_type": "code",
   "execution_count": 65,
   "id": "electrical-professor",
   "metadata": {},
   "outputs": [
    {
     "data": {
      "text/plain": [
       "tensor([[1, 0, 0],\n",
       "        [0, 1, 0],\n",
       "        [0, 0, 1]])"
      ]
     },
     "execution_count": 65,
     "metadata": {},
     "output_type": "execute_result"
    }
   ],
   "source": [
    "X_In = torch.tensor([[1,0, 0],[0,1,0],[0,0,1]])\n",
    "X_In"
   ]
  },
  {
   "cell_type": "code",
   "execution_count": 70,
   "id": "precise-commercial",
   "metadata": {},
   "outputs": [
    {
     "data": {
      "text/plain": [
       "tensor([[16],\n",
       "        [27],\n",
       "        [74]])"
      ]
     },
     "execution_count": 70,
     "metadata": {},
     "output_type": "execute_result"
    }
   ],
   "source": [
    "x_pt = torch.tensor([[16], [27], [74]])\n",
    "x_pt"
   ]
  },
  {
   "cell_type": "code",
   "execution_count": 71,
   "id": "sharp-failure",
   "metadata": {},
   "outputs": [
    {
     "data": {
      "text/plain": [
       "tensor([[16],\n",
       "        [27],\n",
       "        [74]])"
      ]
     },
     "execution_count": 71,
     "metadata": {},
     "output_type": "execute_result"
    }
   ],
   "source": [
    "torch.matmul(X_In, x_pt)"
   ]
  },
  {
   "cell_type": "code",
   "execution_count": 74,
   "id": "suspected-delta",
   "metadata": {},
   "outputs": [
    {
     "data": {
      "text/plain": [
       "array([[1, 0, 0],\n",
       "       [0, 1, 0],\n",
       "       [0, 0, 1]])"
      ]
     },
     "execution_count": 74,
     "metadata": {},
     "output_type": "execute_result"
    }
   ],
   "source": [
    "X_In_np = np.array([[1,0, 0],[0,1,0],[0,0,1]])\n",
    "X_In_np"
   ]
  },
  {
   "cell_type": "code",
   "execution_count": 79,
   "id": "digital-battery",
   "metadata": {},
   "outputs": [
    {
     "data": {
      "text/plain": [
       "array([[16],\n",
       "       [27],\n",
       "       [74]])"
      ]
     },
     "execution_count": 79,
     "metadata": {},
     "output_type": "execute_result"
    }
   ],
   "source": [
    "x_np = np.array([[16], [27], [74]])\n",
    "x_np"
   ]
  },
  {
   "cell_type": "code",
   "execution_count": 80,
   "id": "light-throat",
   "metadata": {},
   "outputs": [
    {
     "data": {
      "text/plain": [
       "array([[16],\n",
       "       [27],\n",
       "       [74]])"
      ]
     },
     "execution_count": 80,
     "metadata": {},
     "output_type": "execute_result"
    }
   ],
   "source": [
    "np.dot(X_In_np, x_np)"
   ]
  },
  {
   "cell_type": "markdown",
   "id": "democratic-broad",
   "metadata": {},
   "source": [
    "# Exercises"
   ]
  },
  {
   "cell_type": "code",
   "execution_count": 82,
   "id": "minute-divorce",
   "metadata": {},
   "outputs": [
    {
     "data": {
      "text/plain": [
       "array([[0, 1, 2],\n",
       "       [3, 4, 5],\n",
       "       [6, 7, 8]])"
      ]
     },
     "execution_count": 82,
     "metadata": {},
     "output_type": "execute_result"
    }
   ],
   "source": [
    "A_np = np.array([[0,1,2],[3,4,5],[6,7,8]])\n",
    "A_np"
   ]
  },
  {
   "cell_type": "code",
   "execution_count": 85,
   "id": "moving-movement",
   "metadata": {},
   "outputs": [
    {
     "data": {
      "text/plain": [
       "array([[-1],\n",
       "       [ 1],\n",
       "       [-2]])"
      ]
     },
     "execution_count": 85,
     "metadata": {},
     "output_type": "execute_result"
    }
   ],
   "source": [
    "B_np = np.array([[-1],[1],[-2]])\n",
    "B_np"
   ]
  },
  {
   "cell_type": "code",
   "execution_count": 86,
   "id": "present-consortium",
   "metadata": {},
   "outputs": [
    {
     "data": {
      "text/plain": [
       "array([[ -3],\n",
       "       [ -9],\n",
       "       [-15]])"
      ]
     },
     "execution_count": 86,
     "metadata": {},
     "output_type": "execute_result"
    }
   ],
   "source": [
    "np.dot(A_np, B_np)"
   ]
  },
  {
   "cell_type": "code",
   "execution_count": 87,
   "id": "warming-support",
   "metadata": {},
   "outputs": [
    {
     "data": {
      "text/plain": [
       "array([[-1,  0],\n",
       "       [ 1,  1],\n",
       "       [-2,  2]])"
      ]
     },
     "execution_count": 87,
     "metadata": {},
     "output_type": "execute_result"
    }
   ],
   "source": [
    "C_np = np.array([[-1,0],[1,1],[-2,2]])\n",
    "C_np"
   ]
  },
  {
   "cell_type": "code",
   "execution_count": 88,
   "id": "explicit-domestic",
   "metadata": {},
   "outputs": [
    {
     "data": {
      "text/plain": [
       "array([[ -3,   5],\n",
       "       [ -9,  14],\n",
       "       [-15,  23]])"
      ]
     },
     "execution_count": 88,
     "metadata": {},
     "output_type": "execute_result"
    }
   ],
   "source": [
    "np.dot(A_np, C_np)"
   ]
  },
  {
   "cell_type": "code",
   "execution_count": null,
   "id": "alpine-advertiser",
   "metadata": {},
   "outputs": [],
   "source": []
  },
  {
   "cell_type": "markdown",
   "id": "commercial-supervisor",
   "metadata": {},
   "source": [
    "# 5.5 Linear Algebra in Machine Learning Application\n",
    "\n",
    "Note:\n",
    "Let say,\n",
    "\n",
    "> a = house average price;\n",
    "\n",
    "> b = property 1 (for instance, distance to school);\n",
    "\n",
    "> c = property 2 (for instance, distance to hospital);\n",
    "\n",
    "> . ;\n",
    "\n",
    "> . ;\n",
    "\n",
    "> . ;\n",
    "\n",
    "> m\n",
    "    "
   ]
  },
  {
   "cell_type": "code",
   "execution_count": null,
   "id": "excellent-tunnel",
   "metadata": {},
   "outputs": [],
   "source": []
  },
  {
   "cell_type": "code",
   "execution_count": null,
   "id": "gentle-wages",
   "metadata": {},
   "outputs": [],
   "source": [
    "\n"
   ]
  },
  {
   "cell_type": "code",
   "execution_count": null,
   "id": "afraid-steps",
   "metadata": {},
   "outputs": [],
   "source": []
  },
  {
   "cell_type": "code",
   "execution_count": null,
   "id": "involved-namibia",
   "metadata": {},
   "outputs": [],
   "source": []
  },
  {
   "cell_type": "code",
   "execution_count": null,
   "id": "metric-manor",
   "metadata": {},
   "outputs": [],
   "source": []
  },
  {
   "cell_type": "markdown",
   "id": "ordinary-westminster",
   "metadata": {},
   "source": [
    "# Ch. 6 Special Matrices\n",
    "\n",
    "Norm is basically used to measure the distance from the origin (0,0)\n",
    "\n",
    "\n",
    "['Theory of Norm Youtube:'](https://www.youtube.com/watch?v=5fN2J8wYnfw)\n",
    "\n",
    "['Norm in Machine Learning'](https://www.youtube.com/watch?v=FiSy6zWDfiA)\n",
    "\n",
    "\n",
    "## 6.1 The Frobenius Norm (Eucledian Distance)\n",
    "\n"
   ]
  },
  {
   "cell_type": "code",
   "execution_count": 3,
   "id": "wicked-title",
   "metadata": {},
   "outputs": [
    {
     "data": {
      "text/plain": [
       "array([[ 7,  8],\n",
       "       [ 9, 10]])"
      ]
     },
     "execution_count": 3,
     "metadata": {},
     "output_type": "execute_result"
    }
   ],
   "source": [
    "# make 2x2 matrix\n",
    "x = np.array([[7,8], [9,10]])\n",
    "x"
   ]
  },
  {
   "cell_type": "code",
   "execution_count": 4,
   "id": "incoming-tongue",
   "metadata": {},
   "outputs": [
    {
     "data": {
      "text/plain": [
       "17.146428199482248"
      ]
     },
     "execution_count": 4,
     "metadata": {},
     "output_type": "execute_result"
    }
   ],
   "source": [
    "# Calculate the Frobenius Norm of this matrix manually\n",
    "(x[0,0]**2 + x[0,1]**2 + x[1,0]**2 + x[1,1]**2)**(1/2)"
   ]
  },
  {
   "cell_type": "code",
   "execution_count": 5,
   "id": "historic-transport",
   "metadata": {},
   "outputs": [
    {
     "data": {
      "text/plain": [
       "17.146428199482248"
      ]
     },
     "execution_count": 5,
     "metadata": {},
     "output_type": "execute_result"
    }
   ],
   "source": [
    "np.linalg.norm(x) #using function vector L2 norm; the result is the same"
   ]
  },
  {
   "cell_type": "code",
   "execution_count": 6,
   "id": "fatal-station",
   "metadata": {},
   "outputs": [
    {
     "data": {
      "text/plain": [
       "tensor([[ 7.,  8.],\n",
       "        [ 9., 10.]])"
      ]
     },
     "execution_count": 6,
     "metadata": {},
     "output_type": "execute_result"
    }
   ],
   "source": [
    "# USing PyTorch\n",
    "x_pt = torch.tensor([[7,8], [9,10.]]) # torch.norm() MUST use floats (assign only one)\n",
    "x_pt"
   ]
  },
  {
   "cell_type": "code",
   "execution_count": 7,
   "id": "lasting-nebraska",
   "metadata": {},
   "outputs": [
    {
     "data": {
      "text/plain": [
       "tensor(17.1464)"
      ]
     },
     "execution_count": 7,
     "metadata": {},
     "output_type": "execute_result"
    }
   ],
   "source": [
    "torch.norm(x_pt)"
   ]
  },
  {
   "cell_type": "code",
   "execution_count": 8,
   "id": "impossible-joseph",
   "metadata": {},
   "outputs": [
    {
     "data": {
      "text/plain": [
       "<tf.Variable 'Variable:0' shape=(2, 2) dtype=float32, numpy=\n",
       "array([[ 7.,  8.],\n",
       "       [ 9., 10.]], dtype=float32)>"
      ]
     },
     "execution_count": 8,
     "metadata": {},
     "output_type": "execute_result"
    }
   ],
   "source": [
    "# Using TensorFlow\n",
    "x_tf = tf.Variable([[7,8], [9,10.]]) # tf.norm() MUST use floats (assign only one)\n",
    "x_tf"
   ]
  },
  {
   "cell_type": "code",
   "execution_count": 9,
   "id": "spread-state",
   "metadata": {},
   "outputs": [
    {
     "data": {
      "text/plain": [
       "<tf.Tensor: shape=(), dtype=float32, numpy=17.14643>"
      ]
     },
     "execution_count": 9,
     "metadata": {},
     "output_type": "execute_result"
    }
   ],
   "source": [
    "tf.norm(x_tf)"
   ]
  },
  {
   "cell_type": "markdown",
   "id": "electrical-lloyd",
   "metadata": {},
   "source": [
    "## 6.2 Matrix Inversion\n",
    "\n",
    "Matrix Inverse of X is denoted as $ X^(-1) $"
   ]
  },
  {
   "cell_type": "code",
   "execution_count": 10,
   "id": "exempt-flood",
   "metadata": {},
   "outputs": [
    {
     "data": {
      "text/plain": [
       "array([[ 4,  2],\n",
       "       [-5, -3]])"
      ]
     },
     "execution_count": 10,
     "metadata": {},
     "output_type": "execute_result"
    }
   ],
   "source": [
    "X = np.array([[4,2], [-5,-3]])\n",
    "X"
   ]
  },
  {
   "cell_type": "code",
   "execution_count": 12,
   "id": "verified-glenn",
   "metadata": {},
   "outputs": [
    {
     "data": {
      "text/plain": [
       "array([[ 1.5,  1. ],\n",
       "       [-2.5, -2. ]])"
      ]
     },
     "execution_count": 12,
     "metadata": {},
     "output_type": "execute_result"
    }
   ],
   "source": [
    "Xinv = np.linalg.inv(X)\n",
    "Xinv"
   ]
  },
  {
   "cell_type": "code",
   "execution_count": 13,
   "id": "human-reggae",
   "metadata": {},
   "outputs": [
    {
     "data": {
      "text/plain": [
       "array([ 4, -7])"
      ]
     },
     "execution_count": 13,
     "metadata": {},
     "output_type": "execute_result"
    }
   ],
   "source": [
    "y = np.array([4,-7])\n",
    "y"
   ]
  },
  {
   "cell_type": "code",
   "execution_count": 14,
   "id": "temporal-distributor",
   "metadata": {},
   "outputs": [
    {
     "data": {
      "text/plain": [
       "array([-1.,  4.])"
      ]
     },
     "execution_count": 14,
     "metadata": {},
     "output_type": "execute_result"
    }
   ],
   "source": [
    "w = np.dot(Xinv,y)\n",
    "w"
   ]
  },
  {
   "cell_type": "markdown",
   "id": "union-figure",
   "metadata": {},
   "source": [
    "Show that y = Xw ;"
   ]
  },
  {
   "cell_type": "code",
   "execution_count": 15,
   "id": "absolute-photography",
   "metadata": {},
   "outputs": [
    {
     "data": {
      "text/plain": [
       "array([ 4., -7.])"
      ]
     },
     "execution_count": 15,
     "metadata": {},
     "output_type": "execute_result"
    }
   ],
   "source": [
    "np.dot(X,w)"
   ]
  },
  {
   "cell_type": "code",
   "execution_count": 19,
   "id": "working-extension",
   "metadata": {},
   "outputs": [
    {
     "data": {
      "text/plain": [
       "tensor([[ 1.5000,  1.0000],\n",
       "        [-2.5000, -2.0000]])"
      ]
     },
     "execution_count": 19,
     "metadata": {},
     "output_type": "execute_result"
    }
   ],
   "source": [
    "torch.inverse(torch.tensor([[4,2], [-5,-3.]]))"
   ]
  },
  {
   "cell_type": "code",
   "execution_count": 22,
   "id": "fitting-election",
   "metadata": {},
   "outputs": [
    {
     "data": {
      "text/plain": [
       "<tf.Tensor: shape=(2, 2), dtype=float32, numpy=\n",
       "array([[ 1.4999998,  0.9999998],\n",
       "       [-2.4999995, -1.9999996]], dtype=float32)>"
      ]
     },
     "execution_count": 22,
     "metadata": {},
     "output_type": "execute_result"
    }
   ],
   "source": [
    "tf.linalg.inv(tf.Variable([[4,2], [-5,-3.]]))"
   ]
  },
  {
   "cell_type": "markdown",
   "id": "bright-shelf",
   "metadata": {},
   "source": [
    "#### Matrix Inversion with No Solution"
   ]
  },
  {
   "cell_type": "code",
   "execution_count": 23,
   "id": "optional-ordering",
   "metadata": {},
   "outputs": [
    {
     "data": {
      "text/plain": [
       "array([[-4,  1],\n",
       "       [-8,  2]])"
      ]
     },
     "execution_count": 23,
     "metadata": {},
     "output_type": "execute_result"
    }
   ],
   "source": [
    "X = np.array([[-4,1],[-8,2]])\n",
    "X"
   ]
  },
  {
   "cell_type": "code",
   "execution_count": 25,
   "id": "foster-amplifier",
   "metadata": {},
   "outputs": [
    {
     "ename": "LinAlgError",
     "evalue": "Singular matrix",
     "output_type": "error",
     "traceback": [
      "\u001b[0;31m---------------------------------------------------------------------------\u001b[0m",
      "\u001b[0;31mLinAlgError\u001b[0m                               Traceback (most recent call last)",
      "\u001b[0;32m<ipython-input-25-47889a8f1529>\u001b[0m in \u001b[0;36m<module>\u001b[0;34m\u001b[0m\n\u001b[0;32m----> 1\u001b[0;31m \u001b[0mnp\u001b[0m\u001b[0;34m.\u001b[0m\u001b[0mlinalg\u001b[0m\u001b[0;34m.\u001b[0m\u001b[0minv\u001b[0m\u001b[0;34m(\u001b[0m\u001b[0mX\u001b[0m\u001b[0;34m)\u001b[0m\u001b[0;34m\u001b[0m\u001b[0;34m\u001b[0m\u001b[0m\n\u001b[0m",
      "\u001b[0;32m<__array_function__ internals>\u001b[0m in \u001b[0;36minv\u001b[0;34m(*args, **kwargs)\u001b[0m\n",
      "\u001b[0;32m~/opt/anaconda3/envs/phd/lib/python3.8/site-packages/numpy/linalg/linalg.py\u001b[0m in \u001b[0;36minv\u001b[0;34m(a)\u001b[0m\n\u001b[1;32m    544\u001b[0m     \u001b[0msignature\u001b[0m \u001b[0;34m=\u001b[0m \u001b[0;34m'D->D'\u001b[0m \u001b[0;32mif\u001b[0m \u001b[0misComplexType\u001b[0m\u001b[0;34m(\u001b[0m\u001b[0mt\u001b[0m\u001b[0;34m)\u001b[0m \u001b[0;32melse\u001b[0m \u001b[0;34m'd->d'\u001b[0m\u001b[0;34m\u001b[0m\u001b[0;34m\u001b[0m\u001b[0m\n\u001b[1;32m    545\u001b[0m     \u001b[0mextobj\u001b[0m \u001b[0;34m=\u001b[0m \u001b[0mget_linalg_error_extobj\u001b[0m\u001b[0;34m(\u001b[0m\u001b[0m_raise_linalgerror_singular\u001b[0m\u001b[0;34m)\u001b[0m\u001b[0;34m\u001b[0m\u001b[0;34m\u001b[0m\u001b[0m\n\u001b[0;32m--> 546\u001b[0;31m     \u001b[0mainv\u001b[0m \u001b[0;34m=\u001b[0m \u001b[0m_umath_linalg\u001b[0m\u001b[0;34m.\u001b[0m\u001b[0minv\u001b[0m\u001b[0;34m(\u001b[0m\u001b[0ma\u001b[0m\u001b[0;34m,\u001b[0m \u001b[0msignature\u001b[0m\u001b[0;34m=\u001b[0m\u001b[0msignature\u001b[0m\u001b[0;34m,\u001b[0m \u001b[0mextobj\u001b[0m\u001b[0;34m=\u001b[0m\u001b[0mextobj\u001b[0m\u001b[0;34m)\u001b[0m\u001b[0;34m\u001b[0m\u001b[0;34m\u001b[0m\u001b[0m\n\u001b[0m\u001b[1;32m    547\u001b[0m     \u001b[0;32mreturn\u001b[0m \u001b[0mwrap\u001b[0m\u001b[0;34m(\u001b[0m\u001b[0mainv\u001b[0m\u001b[0;34m.\u001b[0m\u001b[0mastype\u001b[0m\u001b[0;34m(\u001b[0m\u001b[0mresult_t\u001b[0m\u001b[0;34m,\u001b[0m \u001b[0mcopy\u001b[0m\u001b[0;34m=\u001b[0m\u001b[0;32mFalse\u001b[0m\u001b[0;34m)\u001b[0m\u001b[0;34m)\u001b[0m\u001b[0;34m\u001b[0m\u001b[0;34m\u001b[0m\u001b[0m\n\u001b[1;32m    548\u001b[0m \u001b[0;34m\u001b[0m\u001b[0m\n",
      "\u001b[0;32m~/opt/anaconda3/envs/phd/lib/python3.8/site-packages/numpy/linalg/linalg.py\u001b[0m in \u001b[0;36m_raise_linalgerror_singular\u001b[0;34m(err, flag)\u001b[0m\n\u001b[1;32m     86\u001b[0m \u001b[0;34m\u001b[0m\u001b[0m\n\u001b[1;32m     87\u001b[0m \u001b[0;32mdef\u001b[0m \u001b[0m_raise_linalgerror_singular\u001b[0m\u001b[0;34m(\u001b[0m\u001b[0merr\u001b[0m\u001b[0;34m,\u001b[0m \u001b[0mflag\u001b[0m\u001b[0;34m)\u001b[0m\u001b[0;34m:\u001b[0m\u001b[0;34m\u001b[0m\u001b[0;34m\u001b[0m\u001b[0m\n\u001b[0;32m---> 88\u001b[0;31m     \u001b[0;32mraise\u001b[0m \u001b[0mLinAlgError\u001b[0m\u001b[0;34m(\u001b[0m\u001b[0;34m\"Singular matrix\"\u001b[0m\u001b[0;34m)\u001b[0m\u001b[0;34m\u001b[0m\u001b[0;34m\u001b[0m\u001b[0m\n\u001b[0m\u001b[1;32m     89\u001b[0m \u001b[0;34m\u001b[0m\u001b[0m\n\u001b[1;32m     90\u001b[0m \u001b[0;32mdef\u001b[0m \u001b[0m_raise_linalgerror_nonposdef\u001b[0m\u001b[0;34m(\u001b[0m\u001b[0merr\u001b[0m\u001b[0;34m,\u001b[0m \u001b[0mflag\u001b[0m\u001b[0;34m)\u001b[0m\u001b[0;34m:\u001b[0m\u001b[0;34m\u001b[0m\u001b[0;34m\u001b[0m\u001b[0m\n",
      "\u001b[0;31mLinAlgError\u001b[0m: Singular matrix"
     ]
    }
   ],
   "source": [
    "np.linalg.inv(X)"
   ]
  },
  {
   "cell_type": "markdown",
   "id": "automated-victor",
   "metadata": {},
   "source": [
    "The Singular matrix error is caused by no solution (no intersect)\n",
    "\n",
    "## 6.2 Diagonal Metrix"
   ]
  },
  {
   "cell_type": "code",
   "execution_count": null,
   "id": "breeding-conference",
   "metadata": {},
   "outputs": [],
   "source": [
    "x_diag = np.array()"
   ]
  },
  {
   "cell_type": "code",
   "execution_count": null,
   "id": "resident-funeral",
   "metadata": {},
   "outputs": [],
   "source": []
  },
  {
   "cell_type": "markdown",
   "id": "sixth-chain",
   "metadata": {},
   "source": [
    "## 6.4 The Trace Operator\n",
    "\n",
    "the Traced operator is the sum of the diagonal elements of a matrix.\n",
    "\n",
    "\n",
    "It is denoted as Tr(A)"
   ]
  },
  {
   "cell_type": "code",
   "execution_count": 26,
   "id": "clinical-awareness",
   "metadata": {},
   "outputs": [
    {
     "data": {
      "text/plain": [
       "array([[12,  5],\n",
       "       [ 9, 17]])"
      ]
     },
     "execution_count": 26,
     "metadata": {},
     "output_type": "execute_result"
    }
   ],
   "source": [
    "A = np.array([[12, 5],[9,17]])\n",
    "A"
   ]
  },
  {
   "cell_type": "code",
   "execution_count": 27,
   "id": "approximate-contrary",
   "metadata": {},
   "outputs": [
    {
     "data": {
      "text/plain": [
       "29"
      ]
     },
     "execution_count": 27,
     "metadata": {},
     "output_type": "execute_result"
    }
   ],
   "source": [
    "# Check manually\n",
    "12 + 17"
   ]
  },
  {
   "cell_type": "code",
   "execution_count": 28,
   "id": "connected-multiple",
   "metadata": {},
   "outputs": [
    {
     "data": {
      "text/plain": [
       "29"
      ]
     },
     "execution_count": 28,
     "metadata": {},
     "output_type": "execute_result"
    }
   ],
   "source": [
    "np.trace(A)"
   ]
  },
  {
   "cell_type": "code",
   "execution_count": 30,
   "id": "personal-experience",
   "metadata": {},
   "outputs": [
    {
     "data": {
      "text/plain": [
       "array([[12,  5,  6],\n",
       "       [ 9, 17, 12],\n",
       "       [ 1,  5, 18]])"
      ]
     },
     "execution_count": 30,
     "metadata": {},
     "output_type": "execute_result"
    }
   ],
   "source": [
    "B = np.array([[12, 5, 6],[9,17,12],[1,5,18]])\n",
    "B"
   ]
  },
  {
   "cell_type": "code",
   "execution_count": 31,
   "id": "fatty-montreal",
   "metadata": {},
   "outputs": [
    {
     "data": {
      "text/plain": [
       "47"
      ]
     },
     "execution_count": 31,
     "metadata": {},
     "output_type": "execute_result"
    }
   ],
   "source": [
    "#Check manually\n",
    "12+17+18"
   ]
  },
  {
   "cell_type": "code",
   "execution_count": 32,
   "id": "hundred-chrome",
   "metadata": {},
   "outputs": [
    {
     "data": {
      "text/plain": [
       "47"
      ]
     },
     "execution_count": 32,
     "metadata": {},
     "output_type": "execute_result"
    }
   ],
   "source": [
    "np.trace(B)"
   ]
  },
  {
   "cell_type": "markdown",
   "id": "silver-immunology",
   "metadata": {},
   "source": [
    "# Ch. 7 Eigenvectors and Eigenvalues\n",
    "\n",
    "Explanation on Eigenvectors and Eigenvalues visually can be found here:\n",
    "\n",
    "[3Blue1Brown Concept of Eigenvectors and Eigenvalues](https://www.youtube.com/watch?v=PFDu9oVAE-g)"
   ]
  },
  {
   "cell_type": "code",
   "execution_count": 22,
   "id": "narrow-broadway",
   "metadata": {},
   "outputs": [
    {
     "data": {
      "text/plain": [
       "array([[1., 0., 0.],\n",
       "       [0., 1., 0.],\n",
       "       [0., 0., 1.]])"
      ]
     },
     "execution_count": 22,
     "metadata": {},
     "output_type": "execute_result"
    }
   ],
   "source": [
    "# making 3x3 identity matrix using Numpy module\n",
    "I = np.identity(3)\n",
    "I"
   ]
  },
  {
   "cell_type": "code",
   "execution_count": 23,
   "id": "closing-allowance",
   "metadata": {},
   "outputs": [
    {
     "data": {
      "text/plain": [
       "array([[ 2],\n",
       "       [ 5],\n",
       "       [-3]])"
      ]
     },
     "execution_count": 23,
     "metadata": {},
     "output_type": "execute_result"
    }
   ],
   "source": [
    "u = np.array([[2, 5, -3]]).T\n",
    "u"
   ]
  },
  {
   "cell_type": "code",
   "execution_count": 24,
   "id": "framed-training",
   "metadata": {},
   "outputs": [
    {
     "data": {
      "text/plain": [
       "array([[ 0],\n",
       "       [-4],\n",
       "       [ 6]])"
      ]
     },
     "execution_count": 24,
     "metadata": {},
     "output_type": "execute_result"
    }
   ],
   "source": [
    "u2 = np.array([[0, -4, 6]]).T\n",
    "u2"
   ]
  },
  {
   "cell_type": "code",
   "execution_count": 25,
   "id": "touched-graduation",
   "metadata": {},
   "outputs": [
    {
     "data": {
      "text/plain": [
       "array([[ 2.],\n",
       "       [ 5.],\n",
       "       [-3.]])"
      ]
     },
     "execution_count": 25,
     "metadata": {},
     "output_type": "execute_result"
    }
   ],
   "source": [
    "# multiply Identity x u;\n",
    "np.dot(I, u)\n",
    "\n",
    "#note that the result is remains 'u'"
   ]
  },
  {
   "cell_type": "code",
   "execution_count": 26,
   "id": "soviet-mustang",
   "metadata": {},
   "outputs": [
    {
     "data": {
      "text/plain": [
       "array([[ 2,  0, -1],\n",
       "       [-2,  3,  1],\n",
       "       [ 0,  4, -1]])"
      ]
     },
     "execution_count": 26,
     "metadata": {},
     "output_type": "execute_result"
    }
   ],
   "source": [
    "B = np.array([[2,0,-1],[-2,3,1],[0,4,-1]])\n",
    "B"
   ]
  },
  {
   "cell_type": "code",
   "execution_count": 27,
   "id": "resistant-union",
   "metadata": {},
   "outputs": [
    {
     "data": {
      "text/plain": [
       "array([[ 7],\n",
       "       [ 8],\n",
       "       [23]])"
      ]
     },
     "execution_count": 27,
     "metadata": {},
     "output_type": "execute_result"
    }
   ],
   "source": [
    "np.dot(B,u)"
   ]
  },
  {
   "cell_type": "code",
   "execution_count": 28,
   "id": "stock-classic",
   "metadata": {},
   "outputs": [
    {
     "data": {
      "text/plain": [
       "array([[ -6],\n",
       "       [ -6],\n",
       "       [-22]])"
      ]
     },
     "execution_count": 28,
     "metadata": {},
     "output_type": "execute_result"
    }
   ],
   "source": [
    "np.dot(B,u2)"
   ]
  },
  {
   "cell_type": "code",
   "execution_count": 30,
   "id": "minor-discipline",
   "metadata": {},
   "outputs": [
    {
     "data": {
      "text/plain": [
       "array([[ 2,  0],\n",
       "       [ 5, -4],\n",
       "       [-3,  6]])"
      ]
     },
     "execution_count": 30,
     "metadata": {},
     "output_type": "execute_result"
    }
   ],
   "source": [
    "U = np.concatenate((u, u2), axis=1)\n",
    "U"
   ]
  },
  {
   "cell_type": "code",
   "execution_count": 31,
   "id": "completed-people",
   "metadata": {},
   "outputs": [
    {
     "data": {
      "text/plain": [
       "array([[  7,  -6],\n",
       "       [  8,  -6],\n",
       "       [ 23, -22]])"
      ]
     },
     "execution_count": 31,
     "metadata": {},
     "output_type": "execute_result"
    }
   ],
   "source": [
    "np.dot(B, U)"
   ]
  },
  {
   "cell_type": "markdown",
   "id": "popular-canadian",
   "metadata": {},
   "source": [
    "## 7.3 Eigenvectors in Python\n"
   ]
  },
  {
   "cell_type": "code",
   "execution_count": 32,
   "id": "bright-zimbabwe",
   "metadata": {},
   "outputs": [
    {
     "data": {
      "text/plain": [
       "array([10,  5, 14])"
      ]
     },
     "execution_count": 32,
     "metadata": {},
     "output_type": "execute_result"
    }
   ],
   "source": [
    "x = np.array([10,5,14])\n",
    "x"
   ]
  },
  {
   "cell_type": "code",
   "execution_count": 33,
   "id": "extended-genetics",
   "metadata": {},
   "outputs": [
    {
     "data": {
      "text/plain": [
       "(3,)"
      ]
     },
     "execution_count": 33,
     "metadata": {},
     "output_type": "execute_result"
    }
   ],
   "source": [
    "x.shape"
   ]
  },
  {
   "cell_type": "code",
   "execution_count": 34,
   "id": "effective-ranking",
   "metadata": {},
   "outputs": [
    {
     "data": {
      "text/plain": [
       "array([[10,  5, 14]])"
      ]
     },
     "execution_count": 34,
     "metadata": {},
     "output_type": "execute_result"
    }
   ],
   "source": [
    "x = np.array([[10,5,14]])\n",
    "x"
   ]
  },
  {
   "cell_type": "code",
   "execution_count": 35,
   "id": "protective-raise",
   "metadata": {},
   "outputs": [
    {
     "data": {
      "text/plain": [
       "(1, 3)"
      ]
     },
     "execution_count": 35,
     "metadata": {},
     "output_type": "execute_result"
    }
   ],
   "source": [
    "x.shape"
   ]
  },
  {
   "cell_type": "code",
   "execution_count": 6,
   "id": "nasty-poland",
   "metadata": {},
   "outputs": [
    {
     "data": {
      "text/plain": [
       "array([3, 1])"
      ]
     },
     "execution_count": 6,
     "metadata": {},
     "output_type": "execute_result"
    }
   ],
   "source": [
    "v = np.array([3,1])\n",
    "v"
   ]
  },
  {
   "cell_type": "code",
   "execution_count": 7,
   "id": "second-anger",
   "metadata": {},
   "outputs": [],
   "source": [
    "def plotVectors(vecs, cols, alpha=1):\n",
    "    \"Please read this function in the original code of Jon Krohn\"\n",
    "    plt.figure()\n",
    "    plt.axvline(x=0, color = '#A9A9A9', zorder=0)\n",
    "    plt.axhline(h=0, color = '#A9A9A9', zorder=0)\n",
    "    \n",
    "    for i in range(len(vecs)):\n",
    "        x = np.concatenate([[0,0], vecs[i]])\n",
    "        plt.quiver([x[0]],\n",
    "                   [x[1]],\n",
    "                   [x[2]],\n",
    "                   [x[3]],\n",
    "                   angles='xy',\n",
    "                   scale_units='xy',\n",
    "                   scale=1,\n",
    "                   color=cols[i],\n",
    "                   alpha=alpha)"
   ]
  },
  {
   "cell_type": "code",
   "execution_count": null,
   "id": "burning-sender",
   "metadata": {},
   "outputs": [],
   "source": [
    "plotVectors([v], cols='lightblue')\n",
    "_ = plt.xlim(-1,5)\n",
    "_ = plt.ylim(-1, 5)"
   ]
  },
  {
   "cell_type": "code",
   "execution_count": null,
   "id": "owned-teaching",
   "metadata": {},
   "outputs": [],
   "source": []
  },
  {
   "cell_type": "code",
   "execution_count": null,
   "id": "heavy-silver",
   "metadata": {},
   "outputs": [],
   "source": []
  },
  {
   "cell_type": "code",
   "execution_count": null,
   "id": "external-ribbon",
   "metadata": {},
   "outputs": [],
   "source": []
  }
 ],
 "metadata": {
  "kernelspec": {
   "display_name": "Python 3",
   "language": "python",
   "name": "python3"
  },
  "language_info": {
   "codemirror_mode": {
    "name": "ipython",
    "version": 3
   },
   "file_extension": ".py",
   "mimetype": "text/x-python",
   "name": "python",
   "nbconvert_exporter": "python",
   "pygments_lexer": "ipython3",
   "version": "3.7.9"
  }
 },
 "nbformat": 4,
 "nbformat_minor": 5
}
