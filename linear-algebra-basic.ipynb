{
 "cells": [
  {
   "cell_type": "code",
   "execution_count": 1,
   "id": "atlantic-person",
   "metadata": {},
   "outputs": [],
   "source": [
    "import numpy as np\n",
    "import tensorflow as tf\n",
    "import torch"
   ]
  },
  {
   "cell_type": "code",
   "execution_count": null,
   "id": "systematic-hospital",
   "metadata": {},
   "outputs": [],
   "source": []
  },
  {
   "cell_type": "code",
   "execution_count": null,
   "id": "convertible-particle",
   "metadata": {},
   "outputs": [],
   "source": []
  },
  {
   "cell_type": "code",
   "execution_count": null,
   "id": "requested-likelihood",
   "metadata": {},
   "outputs": [],
   "source": []
  },
  {
   "cell_type": "code",
   "execution_count": null,
   "id": "sixth-glucose",
   "metadata": {},
   "outputs": [],
   "source": []
  },
  {
   "cell_type": "code",
   "execution_count": null,
   "id": "recorded-burden",
   "metadata": {},
   "outputs": [],
   "source": []
  },
  {
   "cell_type": "code",
   "execution_count": null,
   "id": "cloudy-crawford",
   "metadata": {},
   "outputs": [],
   "source": []
  },
  {
   "cell_type": "code",
   "execution_count": null,
   "id": "coordinated-reflection",
   "metadata": {},
   "outputs": [],
   "source": []
  },
  {
   "cell_type": "code",
   "execution_count": null,
   "id": "adjustable-studio",
   "metadata": {},
   "outputs": [],
   "source": []
  },
  {
   "cell_type": "code",
   "execution_count": null,
   "id": "international-diabetes",
   "metadata": {},
   "outputs": [],
   "source": []
  },
  {
   "cell_type": "code",
   "execution_count": null,
   "id": "bright-first",
   "metadata": {},
   "outputs": [],
   "source": []
  },
  {
   "cell_type": "code",
   "execution_count": null,
   "id": "consecutive-laugh",
   "metadata": {},
   "outputs": [],
   "source": []
  },
  {
   "cell_type": "markdown",
   "id": "atlantic-brunei",
   "metadata": {},
   "source": [
    "# Inverse Matrix"
   ]
  },
  {
   "cell_type": "code",
   "execution_count": null,
   "id": "victorian-google",
   "metadata": {},
   "outputs": [],
   "source": []
  },
  {
   "cell_type": "code",
   "execution_count": null,
   "id": "wrong-electronics",
   "metadata": {},
   "outputs": [],
   "source": []
  },
  {
   "cell_type": "code",
   "execution_count": null,
   "id": "supported-republic",
   "metadata": {},
   "outputs": [],
   "source": []
  },
  {
   "cell_type": "code",
   "execution_count": null,
   "id": "operating-rebel",
   "metadata": {},
   "outputs": [],
   "source": []
  },
  {
   "cell_type": "code",
   "execution_count": null,
   "id": "subjective-blank",
   "metadata": {},
   "outputs": [],
   "source": []
  },
  {
   "cell_type": "code",
   "execution_count": null,
   "id": "retired-homeless",
   "metadata": {},
   "outputs": [],
   "source": []
  },
  {
   "cell_type": "markdown",
   "id": "structural-sweden",
   "metadata": {},
   "source": [
    "# Matrix Multiplication\n",
    "\n",
    "We will cover the comparison of doing matrix multiplication using:\n",
    "* Numpy\n",
    "* TensorFlow\n",
    "* PyTorch\n",
    "\n",
    "The Multiplication for the Matrix are classified as follows:\n",
    "- Matrix mult with Vector\n",
    "- Matrix-Matrix Multiplication\n",
    "\n",
    "-------------------------------------------------------------------\n",
    "1. Multiply matrix with vector:\n",
    "\n",
    "A = [[8, 2], [11, 6], [14, 3]]\n",
    "\n",
    "b = [[9],[4]]\n",
    "\n",
    "note that for `Numpy`, there is no particular Matrix to Vector multiplication, we use `np.dot()` to multiply it, with changing b into 1x2 vector from 2x1."
   ]
  },
  {
   "cell_type": "code",
   "execution_count": 3,
   "id": "danish-sunset",
   "metadata": {},
   "outputs": [
    {
     "data": {
      "text/plain": [
       "array([[ 8,  2],\n",
       "       [11,  6],\n",
       "       [14,  3]])"
      ]
     },
     "execution_count": 3,
     "metadata": {},
     "output_type": "execute_result"
    }
   ],
   "source": [
    "A = np.array([[8, 2], [11, 6], [14, 3]])\n",
    "A"
   ]
  },
  {
   "cell_type": "code",
   "execution_count": 9,
   "id": "recreational-precipitation",
   "metadata": {},
   "outputs": [
    {
     "data": {
      "text/plain": [
       "array([9, 4])"
      ]
     },
     "execution_count": 9,
     "metadata": {},
     "output_type": "execute_result"
    }
   ],
   "source": [
    "b = np.array([9,4])\n",
    "b"
   ]
  },
  {
   "cell_type": "code",
   "execution_count": 10,
   "id": "maritime-testimony",
   "metadata": {},
   "outputs": [
    {
     "data": {
      "text/plain": [
       "array([ 80, 123, 138])"
      ]
     },
     "execution_count": 10,
     "metadata": {},
     "output_type": "execute_result"
    }
   ],
   "source": [
    "np.dot(A, b)"
   ]
  },
  {
   "cell_type": "markdown",
   "id": "sonic-freight",
   "metadata": {},
   "source": [
    "### Using `PyTorch`"
   ]
  },
  {
   "cell_type": "code",
   "execution_count": 12,
   "id": "institutional-objective",
   "metadata": {},
   "outputs": [
    {
     "data": {
      "text/plain": [
       "tensor([[ 8,  2],\n",
       "        [11,  6],\n",
       "        [14,  3]])"
      ]
     },
     "execution_count": 12,
     "metadata": {},
     "output_type": "execute_result"
    }
   ],
   "source": [
    "A_pt = torch.tensor([[8, 2], [11, 6], [14, 3]])\n",
    "A_pt"
   ]
  },
  {
   "cell_type": "code",
   "execution_count": 14,
   "id": "latest-information",
   "metadata": {},
   "outputs": [
    {
     "data": {
      "text/plain": [
       "tensor([9, 4])"
      ]
     },
     "execution_count": 14,
     "metadata": {},
     "output_type": "execute_result"
    }
   ],
   "source": [
    "b_pt = torch.tensor([9,4])\n",
    "b_pt"
   ]
  },
  {
   "cell_type": "code",
   "execution_count": 15,
   "id": "herbal-reminder",
   "metadata": {},
   "outputs": [
    {
     "data": {
      "text/plain": [
       "tensor([ 80, 123, 138])"
      ]
     },
     "execution_count": 15,
     "metadata": {},
     "output_type": "execute_result"
    }
   ],
   "source": [
    "# Multiplication\n",
    "torch.matmul(A_pt, b_pt)"
   ]
  },
  {
   "cell_type": "markdown",
   "id": "brazilian-empire",
   "metadata": {},
   "source": [
    "### Using `TensorFlow`"
   ]
  },
  {
   "cell_type": "code",
   "execution_count": 17,
   "id": "polish-gender",
   "metadata": {},
   "outputs": [
    {
     "data": {
      "text/plain": [
       "<tf.Variable 'Variable:0' shape=(3, 2) dtype=int32, numpy=\n",
       "array([[ 8,  2],\n",
       "       [11,  6],\n",
       "       [14,  3]])>"
      ]
     },
     "execution_count": 17,
     "metadata": {},
     "output_type": "execute_result"
    }
   ],
   "source": [
    "A_tf = tf.Variable([[8, 2], [11, 6], [14, 3]])\n",
    "A_tf"
   ]
  },
  {
   "cell_type": "code",
   "execution_count": 20,
   "id": "touched-creek",
   "metadata": {},
   "outputs": [
    {
     "data": {
      "text/plain": [
       "<tf.Variable 'Variable:0' shape=(2,) dtype=int32, numpy=array([9, 4])>"
      ]
     },
     "execution_count": 20,
     "metadata": {},
     "output_type": "execute_result"
    }
   ],
   "source": [
    "b_tf = tf.Variable([9,4])\n",
    "b_tf"
   ]
  },
  {
   "cell_type": "code",
   "execution_count": 21,
   "id": "broadband-motorcycle",
   "metadata": {},
   "outputs": [
    {
     "data": {
      "text/plain": [
       "<tf.Tensor: shape=(3,), dtype=int32, numpy=array([ 80, 123, 138])>"
      ]
     },
     "execution_count": 21,
     "metadata": {},
     "output_type": "execute_result"
    }
   ],
   "source": [
    "tf.linalg.matvec(A_tf, b_tf)"
   ]
  },
  {
   "cell_type": "markdown",
   "id": "based-jewel",
   "metadata": {},
   "source": [
    "2. Multiplication `Matrix` by `Matrix`\n",
    "\n",
    "A = [[8, 2], [11, 6], [14, 3]]\n",
    "\n",
    "B = [[9, 7],[4, 5]]\n",
    "\n",
    "> Important Note:\n",
    "> Matrix multiplication is not 'commutative', means AB /= BA. "
   ]
  },
  {
   "cell_type": "code",
   "execution_count": 23,
   "id": "lined-aurora",
   "metadata": {},
   "outputs": [
    {
     "data": {
      "text/plain": [
       "array([[ 8,  2],\n",
       "       [11,  6],\n",
       "       [14,  3]])"
      ]
     },
     "execution_count": 23,
     "metadata": {},
     "output_type": "execute_result"
    }
   ],
   "source": [
    "# Using A assigned with numpy above\n",
    "A"
   ]
  },
  {
   "cell_type": "code",
   "execution_count": 26,
   "id": "concrete-cement",
   "metadata": {},
   "outputs": [
    {
     "data": {
      "text/plain": [
       "array([[9, 7],\n",
       "       [4, 5]])"
      ]
     },
     "execution_count": 26,
     "metadata": {},
     "output_type": "execute_result"
    }
   ],
   "source": [
    "# Create 2x2 matrix named 'B'\n",
    "B = np.array([[9, 7],[4, 5]])\n",
    "B"
   ]
  },
  {
   "cell_type": "code",
   "execution_count": 27,
   "id": "interstate-irish",
   "metadata": {},
   "outputs": [
    {
     "data": {
      "text/plain": [
       "array([[ 80,  66],\n",
       "       [123, 107],\n",
       "       [138, 113]])"
      ]
     },
     "execution_count": 27,
     "metadata": {},
     "output_type": "execute_result"
    }
   ],
   "source": [
    "np.dot(A,B)"
   ]
  },
  {
   "cell_type": "code",
   "execution_count": 29,
   "id": "missing-marking",
   "metadata": {},
   "outputs": [],
   "source": [
    "#np.dot(B,A) # This code will generate error, check the important note above"
   ]
  },
  {
   "cell_type": "code",
   "execution_count": 50,
   "id": "mechanical-cookbook",
   "metadata": {},
   "outputs": [],
   "source": [
    "# A_pt is taken from above\n",
    "B_pt = torch.from_numpy(B)"
   ]
  },
  {
   "cell_type": "code",
   "execution_count": 54,
   "id": "immediate-developer",
   "metadata": {},
   "outputs": [
    {
     "data": {
      "text/plain": [
       "tensor([[9, 7],\n",
       "        [4, 5]])"
      ]
     },
     "execution_count": 54,
     "metadata": {},
     "output_type": "execute_result"
    }
   ],
   "source": [
    "B_pt = torch.tensor([[9, 7],[4, 5]])\n",
    "B_pt"
   ]
  },
  {
   "cell_type": "code",
   "execution_count": 55,
   "id": "large-command",
   "metadata": {},
   "outputs": [
    {
     "data": {
      "text/plain": [
       "tensor([[ 80,  66],\n",
       "        [123, 107],\n",
       "        [138, 113]])"
      ]
     },
     "execution_count": 55,
     "metadata": {},
     "output_type": "execute_result"
    }
   ],
   "source": [
    "torch.matmul(A_pt, B_pt) # same function, TensorFlow has different function"
   ]
  },
  {
   "cell_type": "code",
   "execution_count": 45,
   "id": "noticed-committee",
   "metadata": {},
   "outputs": [
    {
     "data": {
      "text/plain": [
       "torch.Tensor"
      ]
     },
     "execution_count": 45,
     "metadata": {},
     "output_type": "execute_result"
    }
   ],
   "source": [
    "type(B_pt)"
   ]
  },
  {
   "cell_type": "markdown",
   "id": "adult-collector",
   "metadata": {},
   "source": [
    "### Using `TensorFlow`"
   ]
  },
  {
   "cell_type": "code",
   "execution_count": 48,
   "id": "frequent-insight",
   "metadata": {},
   "outputs": [
    {
     "data": {
      "text/plain": [
       "<tf.Tensor: shape=(2, 2), dtype=int32, numpy=\n",
       "array([[9, 7],\n",
       "       [4, 5]])>"
      ]
     },
     "execution_count": 48,
     "metadata": {},
     "output_type": "execute_result"
    }
   ],
   "source": [
    "# A_tf is taken from A_tf above\n",
    "B_tf = tf.convert_to_tensor(B, dtype=tf.int32)\n",
    "B_tf"
   ]
  },
  {
   "cell_type": "code",
   "execution_count": 56,
   "id": "friendly-constitutional",
   "metadata": {},
   "outputs": [
    {
     "data": {
      "text/plain": [
       "<tf.Tensor: shape=(3, 2), dtype=int32, numpy=\n",
       "array([[ 80,  66],\n",
       "       [123, 107],\n",
       "       [138, 113]])>"
      ]
     },
     "execution_count": 56,
     "metadata": {},
     "output_type": "execute_result"
    }
   ],
   "source": [
    "tf.matmul(A_tf, B_tf)"
   ]
  },
  {
   "cell_type": "code",
   "execution_count": null,
   "id": "scenic-mixture",
   "metadata": {},
   "outputs": [],
   "source": [
    "# Symmetric and Identity Matrices\n",
    "\n",
    "1. Symmetric Matrices is: \n",
    "    * square; \n",
    "    * X^T = X; "
   ]
  },
  {
   "cell_type": "code",
   "execution_count": 59,
   "id": "younger-registrar",
   "metadata": {},
   "outputs": [
    {
     "data": {
      "text/plain": [
       "array([[0, 1, 2],\n",
       "       [1, 3, 4],\n",
       "       [2, 4, 5]])"
      ]
     },
     "execution_count": 59,
     "metadata": {},
     "output_type": "execute_result"
    }
   ],
   "source": [
    "X_sym = np.array([[0, 1, 2],[1, 3, 4], [2, 4, 5]])\n",
    "X_sym"
   ]
  },
  {
   "cell_type": "code",
   "execution_count": 60,
   "id": "suited-firmware",
   "metadata": {},
   "outputs": [
    {
     "data": {
      "text/plain": [
       "array([[0, 1, 2],\n",
       "       [1, 3, 4],\n",
       "       [2, 4, 5]])"
      ]
     },
     "execution_count": 60,
     "metadata": {},
     "output_type": "execute_result"
    }
   ],
   "source": [
    "X_sym.T"
   ]
  },
  {
   "cell_type": "code",
   "execution_count": 61,
   "id": "unlimited-permit",
   "metadata": {},
   "outputs": [
    {
     "data": {
      "text/plain": [
       "array([[ True,  True,  True],\n",
       "       [ True,  True,  True],\n",
       "       [ True,  True,  True]])"
      ]
     },
     "execution_count": 61,
     "metadata": {},
     "output_type": "execute_result"
    }
   ],
   "source": [
    "X_sym.T == X_sym"
   ]
  },
  {
   "cell_type": "markdown",
   "id": "moving-fishing",
   "metadata": {},
   "source": [
    "# Identity Matrix\n",
    "\n",
    "Identity Matrix simply a symmetric matrix which has following properties:\n",
    "\n",
    "* Every element along main diagonal is 1;\n",
    "* All other elements are 0;\n",
    "* Notation: ___In___ where n = height (width);\n",
    "* n-length vector unchaged if multiplied by  ___In___"
   ]
  },
  {
   "cell_type": "code",
   "execution_count": 65,
   "id": "qualified-victor",
   "metadata": {},
   "outputs": [
    {
     "data": {
      "text/plain": [
       "tensor([[1, 0, 0],\n",
       "        [0, 1, 0],\n",
       "        [0, 0, 1]])"
      ]
     },
     "execution_count": 65,
     "metadata": {},
     "output_type": "execute_result"
    }
   ],
   "source": [
    "X_In = torch.tensor([[1,0, 0],[0,1,0],[0,0,1]])\n",
    "X_In"
   ]
  },
  {
   "cell_type": "code",
   "execution_count": 70,
   "id": "expressed-adobe",
   "metadata": {},
   "outputs": [
    {
     "data": {
      "text/plain": [
       "tensor([[16],\n",
       "        [27],\n",
       "        [74]])"
      ]
     },
     "execution_count": 70,
     "metadata": {},
     "output_type": "execute_result"
    }
   ],
   "source": [
    "x_pt = torch.tensor([[16], [27], [74]])\n",
    "x_pt"
   ]
  },
  {
   "cell_type": "code",
   "execution_count": 71,
   "id": "vietnamese-technical",
   "metadata": {},
   "outputs": [
    {
     "data": {
      "text/plain": [
       "tensor([[16],\n",
       "        [27],\n",
       "        [74]])"
      ]
     },
     "execution_count": 71,
     "metadata": {},
     "output_type": "execute_result"
    }
   ],
   "source": [
    "torch.matmul(X_In, x_pt)"
   ]
  },
  {
   "cell_type": "code",
   "execution_count": 74,
   "id": "official-training",
   "metadata": {},
   "outputs": [
    {
     "data": {
      "text/plain": [
       "array([[1, 0, 0],\n",
       "       [0, 1, 0],\n",
       "       [0, 0, 1]])"
      ]
     },
     "execution_count": 74,
     "metadata": {},
     "output_type": "execute_result"
    }
   ],
   "source": [
    "X_In_np = np.array([[1,0, 0],[0,1,0],[0,0,1]])\n",
    "X_In_np"
   ]
  },
  {
   "cell_type": "code",
   "execution_count": 79,
   "id": "experimental-qatar",
   "metadata": {},
   "outputs": [
    {
     "data": {
      "text/plain": [
       "array([[16],\n",
       "       [27],\n",
       "       [74]])"
      ]
     },
     "execution_count": 79,
     "metadata": {},
     "output_type": "execute_result"
    }
   ],
   "source": [
    "x_np = np.array([[16], [27], [74]])\n",
    "x_np"
   ]
  },
  {
   "cell_type": "code",
   "execution_count": 80,
   "id": "aggregate-division",
   "metadata": {},
   "outputs": [
    {
     "data": {
      "text/plain": [
       "array([[16],\n",
       "       [27],\n",
       "       [74]])"
      ]
     },
     "execution_count": 80,
     "metadata": {},
     "output_type": "execute_result"
    }
   ],
   "source": [
    "np.dot(X_In_np, x_np)"
   ]
  },
  {
   "cell_type": "markdown",
   "id": "regular-fortune",
   "metadata": {},
   "source": [
    "# Exercises"
   ]
  },
  {
   "cell_type": "code",
   "execution_count": 82,
   "id": "enclosed-cuisine",
   "metadata": {},
   "outputs": [
    {
     "data": {
      "text/plain": [
       "array([[0, 1, 2],\n",
       "       [3, 4, 5],\n",
       "       [6, 7, 8]])"
      ]
     },
     "execution_count": 82,
     "metadata": {},
     "output_type": "execute_result"
    }
   ],
   "source": [
    "A_np = np.array([[0,1,2],[3,4,5],[6,7,8]])\n",
    "A_np"
   ]
  },
  {
   "cell_type": "code",
   "execution_count": 85,
   "id": "progressive-background",
   "metadata": {},
   "outputs": [
    {
     "data": {
      "text/plain": [
       "array([[-1],\n",
       "       [ 1],\n",
       "       [-2]])"
      ]
     },
     "execution_count": 85,
     "metadata": {},
     "output_type": "execute_result"
    }
   ],
   "source": [
    "B_np = np.array([[-1],[1],[-2]])\n",
    "B_np"
   ]
  },
  {
   "cell_type": "code",
   "execution_count": 86,
   "id": "after-adventure",
   "metadata": {},
   "outputs": [
    {
     "data": {
      "text/plain": [
       "array([[ -3],\n",
       "       [ -9],\n",
       "       [-15]])"
      ]
     },
     "execution_count": 86,
     "metadata": {},
     "output_type": "execute_result"
    }
   ],
   "source": [
    "np.dot(A_np, B_np)"
   ]
  },
  {
   "cell_type": "code",
   "execution_count": 87,
   "id": "quarterly-triangle",
   "metadata": {},
   "outputs": [
    {
     "data": {
      "text/plain": [
       "array([[-1,  0],\n",
       "       [ 1,  1],\n",
       "       [-2,  2]])"
      ]
     },
     "execution_count": 87,
     "metadata": {},
     "output_type": "execute_result"
    }
   ],
   "source": [
    "C_np = np.array([[-1,0],[1,1],[-2,2]])\n",
    "C_np"
   ]
  },
  {
   "cell_type": "code",
   "execution_count": 88,
   "id": "direct-entry",
   "metadata": {},
   "outputs": [
    {
     "data": {
      "text/plain": [
       "array([[ -3,   5],\n",
       "       [ -9,  14],\n",
       "       [-15,  23]])"
      ]
     },
     "execution_count": 88,
     "metadata": {},
     "output_type": "execute_result"
    }
   ],
   "source": [
    "np.dot(A_np, C_np)"
   ]
  },
  {
   "cell_type": "code",
   "execution_count": null,
   "id": "built-professor",
   "metadata": {},
   "outputs": [],
   "source": []
  },
  {
   "cell_type": "code",
   "execution_count": null,
   "id": "vocal-bulgarian",
   "metadata": {},
   "outputs": [],
   "source": []
  },
  {
   "cell_type": "code",
   "execution_count": null,
   "id": "pleased-letter",
   "metadata": {
    "jupyter": {
     "source_hidden": true
    }
   },
   "outputs": [],
   "source": []
  }
 ],
 "metadata": {
  "kernelspec": {
   "display_name": "Python 3",
   "language": "python",
   "name": "python3"
  },
  "language_info": {
   "codemirror_mode": {
    "name": "ipython",
    "version": 3
   },
   "file_extension": ".py",
   "mimetype": "text/x-python",
   "name": "python",
   "nbconvert_exporter": "python",
   "pygments_lexer": "ipython3",
   "version": "3.7.9"
  }
 },
 "nbformat": 4,
 "nbformat_minor": 5
}
