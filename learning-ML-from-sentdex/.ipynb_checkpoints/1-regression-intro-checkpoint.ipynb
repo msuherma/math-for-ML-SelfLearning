{
 "cells": [
  {
   "cell_type": "markdown",
   "metadata": {},
   "source": [
    "This notebook is composed based on the YT series on ML by setdex as found [here](https://www.youtube.com/watch?v=JcI5Vnw0b2c&list=PLQVvvaa0QuDfKTOs3Keq_kaG2P55YRn5v&index=2).\n",
    "\n"
   ]
  },
  {
   "cell_type": "code",
   "execution_count": 8,
   "metadata": {},
   "outputs": [
    {
     "ename": "ModuleNotFoundError",
     "evalue": "No module named 'Quandl'",
     "output_type": "error",
     "traceback": [
      "\u001b[0;31m---------------------------------------------------------------------------\u001b[0m",
      "\u001b[0;31mModuleNotFoundError\u001b[0m                       Traceback (most recent call last)",
      "\u001b[0;32m<ipython-input-8-f79a8ad0d196>\u001b[0m in \u001b[0;36m<module>\u001b[0;34m\u001b[0m\n\u001b[1;32m      1\u001b[0m \u001b[0;32mimport\u001b[0m \u001b[0mpandas\u001b[0m \u001b[0;32mas\u001b[0m \u001b[0mpd\u001b[0m\u001b[0;34m\u001b[0m\u001b[0;34m\u001b[0m\u001b[0m\n\u001b[0;32m----> 2\u001b[0;31m \u001b[0;32mimport\u001b[0m \u001b[0mQuandl\u001b[0m\u001b[0;34m\u001b[0m\u001b[0;34m\u001b[0m\u001b[0m\n\u001b[0m",
      "\u001b[0;31mModuleNotFoundError\u001b[0m: No module named 'Quandl'"
     ]
    }
   ],
   "source": [
    "import pandas as pd\n",
    "import Quandl"
   ]
  },
  {
   "cell_type": "code",
   "execution_count": 6,
   "metadata": {},
   "outputs": [
    {
     "name": "stdout",
     "output_type": "stream",
     "text": [
      "Requirement already satisfied: Quandl in /Users/cakherman/opt/anaconda3/envs/phd/lib/python3.8/site-packages (3.6.1)\n",
      "Requirement already satisfied: more-itertools in /Users/cakherman/opt/anaconda3/envs/phd/lib/python3.8/site-packages (from Quandl) (8.7.0)\n",
      "Requirement already satisfied: pandas>=0.14 in /Users/cakherman/opt/anaconda3/envs/phd/lib/python3.8/site-packages (from Quandl) (1.1.3)\n",
      "Requirement already satisfied: inflection>=0.3.1 in /Users/cakherman/opt/anaconda3/envs/phd/lib/python3.8/site-packages (from Quandl) (0.5.1)\n",
      "Requirement already satisfied: numpy>=1.8 in /Users/cakherman/opt/anaconda3/envs/phd/lib/python3.8/site-packages (from Quandl) (1.19.2)\n",
      "Requirement already satisfied: six in /Users/cakherman/opt/anaconda3/envs/phd/lib/python3.8/site-packages (from Quandl) (1.15.0)\n",
      "Requirement already satisfied: requests>=2.7.0 in /Users/cakherman/opt/anaconda3/envs/phd/lib/python3.8/site-packages (from Quandl) (2.25.0)\n",
      "Requirement already satisfied: python-dateutil in /Users/cakherman/opt/anaconda3/envs/phd/lib/python3.8/site-packages (from Quandl) (2.8.1)\n",
      "Requirement already satisfied: python-dateutil in /Users/cakherman/opt/anaconda3/envs/phd/lib/python3.8/site-packages (from Quandl) (2.8.1)\n",
      "Requirement already satisfied: numpy>=1.8 in /Users/cakherman/opt/anaconda3/envs/phd/lib/python3.8/site-packages (from Quandl) (1.19.2)\n",
      "Requirement already satisfied: pytz>=2017.2 in /Users/cakherman/opt/anaconda3/envs/phd/lib/python3.8/site-packages (from pandas>=0.14->Quandl) (2020.4)\n",
      "Requirement already satisfied: six in /Users/cakherman/opt/anaconda3/envs/phd/lib/python3.8/site-packages (from Quandl) (1.15.0)\n",
      "Requirement already satisfied: idna<3,>=2.5 in /Users/cakherman/opt/anaconda3/envs/phd/lib/python3.8/site-packages (from requests>=2.7.0->Quandl) (2.10)\n",
      "Requirement already satisfied: chardet<4,>=3.0.2 in /Users/cakherman/opt/anaconda3/envs/phd/lib/python3.8/site-packages (from requests>=2.7.0->Quandl) (3.0.4)\n",
      "Requirement already satisfied: urllib3<1.27,>=1.21.1 in /Users/cakherman/opt/anaconda3/envs/phd/lib/python3.8/site-packages (from requests>=2.7.0->Quandl) (1.25.11)\n",
      "Requirement already satisfied: certifi>=2017.4.17 in /Users/cakherman/opt/anaconda3/envs/phd/lib/python3.8/site-packages (from requests>=2.7.0->Quandl) (2020.12.5)\n"
     ]
    }
   ],
   "source": [
    "!pip install Quandl"
   ]
  },
  {
   "cell_type": "code",
   "execution_count": null,
   "metadata": {},
   "outputs": [],
   "source": []
  },
  {
   "cell_type": "code",
   "execution_count": null,
   "metadata": {},
   "outputs": [],
   "source": []
  }
 ],
 "metadata": {
  "kernelspec": {
   "display_name": "Python 3",
   "language": "python",
   "name": "python3"
  },
  "language_info": {
   "codemirror_mode": {
    "name": "ipython",
    "version": 3
   },
   "file_extension": ".py",
   "mimetype": "text/x-python",
   "name": "python",
   "nbconvert_exporter": "python",
   "pygments_lexer": "ipython3",
   "version": "3.8.2"
  }
 },
 "nbformat": 4,
 "nbformat_minor": 4
}
