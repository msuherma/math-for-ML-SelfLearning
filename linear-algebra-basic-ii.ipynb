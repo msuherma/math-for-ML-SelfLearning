{
 "cells": [
  {
   "cell_type": "markdown",
   "id": "wired-convention",
   "metadata": {},
   "source": [
    "This notebook contains:\n",
    "* eigenvectors and eigenvalues\n",
    "* determinants\n"
   ]
  },
  {
   "cell_type": "code",
   "execution_count": 3,
   "id": "balanced-flooring",
   "metadata": {},
   "outputs": [
    {
     "name": "stdout",
     "output_type": "stream",
     "text": [
      "Collecting torch\n",
      "  Using cached torch-1.7.1-cp38-cp38-win_amd64.whl (184.0 MB)\n",
      "Requirement already satisfied: numpy in c:\\users\\user\\anaconda3\\envs\\termo\\lib\\site-packages (from torch) (1.19.2)\n",
      "Requirement already satisfied: typing-extensions in c:\\users\\user\\anaconda3\\envs\\termo\\lib\\site-packages (from torch) (3.7.4.3)\n",
      "Installing collected packages: torch\n",
      "Successfully installed torch-1.7.1\n"
     ]
    }
   ],
   "source": [
    "\n",
    "import numpy as np\n",
    "import torch\n",
    "import matplotlib.pyplot as plt\n",
    "%matplotlib inline"
   ]
  },
  {
   "cell_type": "code",
   "execution_count": 2,
   "id": "vietnamese-purple",
   "metadata": {},
   "outputs": [
    {
     "data": {
      "text/plain": [
       "array([3, 1])"
      ]
     },
     "execution_count": 2,
     "metadata": {},
     "output_type": "execute_result"
    }
   ],
   "source": [
    "v = np.array([3, 1])\n",
    "v"
   ]
  },
  {
   "cell_type": "markdown",
   "id": "german-transition",
   "metadata": {},
   "source": [
    "Let's plot $v$ using my `plot_vectors()` function (which is based on Hadrien Jean's `plotVectors()` function from [this notebook](https://github.com/hadrienj/deepLearningBook-Notes/blob/master/2.7%20Eigendecomposition/2.7%20Eigendecomposition.ipynb), under [MIT license](https://github.com/hadrienj/deepLearningBook-Notes/blob/master/LICENSE))."
   ]
  },
  {
   "cell_type": "code",
   "execution_count": 3,
   "id": "flying-handle",
   "metadata": {},
   "outputs": [],
   "source": [
    "def plot_vectors(vectors, colors):\n",
    "    \"\"\"\n",
    "    Plot one or more vectors in a 2D plane, specifying a color for each. \n",
    "\n",
    "    Arguments\n",
    "    ---------\n",
    "    vectors: list of lists or of arrays\n",
    "        Coordinates of the vectors to plot. For example, [[1, 3], [2, 2]] \n",
    "        contains two vectors to plot, [1, 3] and [2, 2].\n",
    "    colors: list\n",
    "        Colors of the vectors. For instance: ['red', 'blue'] will display the\n",
    "        first vector in red and the second in blue.\n",
    "        \n",
    "    Example\n",
    "    -------\n",
    "    plot_vectors([[1, 3], [2, 2]], ['red', 'blue'])\n",
    "    plt.xlim(-1, 4)\n",
    "    plt.ylim(-1, 4)\n",
    "    \"\"\"\n",
    "    plt.figure()\n",
    "    plt.axvline(x=0, color='lightgray')\n",
    "    plt.axhline(y=0, color='lightgray')\n",
    "\n",
    "    for i in range(len(vectors)):\n",
    "        x = np.concatenate([[0,0],vectors[i]])\n",
    "        plt.quiver([x[0]], [x[1]], [x[2]], [x[3]],\n",
    "                   angles='xy', scale_units='xy', scale=1, color=colors[i],)"
   ]
  },
  {
   "cell_type": "code",
   "execution_count": null,
   "id": "silver-silver",
   "metadata": {},
   "outputs": [],
   "source": [
    "plot_vectors([v], ['lightblue'])\n",
    "_ = plt.xlim(-1, 5)\n",
    "_ = plt.ylim(-1, 5)"
   ]
  },
  {
   "cell_type": "markdown",
   "id": "extraordinary-night",
   "metadata": {},
   "source": [
    "## Exercises - Determinant"
   ]
  },
  {
   "cell_type": "code",
   "execution_count": 5,
   "id": "temporal-boating",
   "metadata": {},
   "outputs": [
    {
     "data": {
      "text/plain": [
       "array([[25,  2],\n",
       "       [ 3,  4]])"
      ]
     },
     "execution_count": 5,
     "metadata": {},
     "output_type": "execute_result"
    }
   ],
   "source": [
    "A = np.array([[25, 2], [3, 4]])\n",
    "A"
   ]
  },
  {
   "cell_type": "code",
   "execution_count": 6,
   "id": "executed-bottle",
   "metadata": {},
   "outputs": [
    {
     "data": {
      "text/plain": [
       "94.0"
      ]
     },
     "execution_count": 6,
     "metadata": {},
     "output_type": "execute_result"
    }
   ],
   "source": [
    "np.linalg.det(A)"
   ]
  },
  {
   "cell_type": "code",
   "execution_count": 7,
   "id": "descending-worthy",
   "metadata": {},
   "outputs": [
    {
     "data": {
      "text/plain": [
       "array([[-2,  0],\n",
       "       [ 0, -2]])"
      ]
     },
     "execution_count": 7,
     "metadata": {},
     "output_type": "execute_result"
    }
   ],
   "source": [
    "B = np.array([[-2, 0], [0, -2]])\n",
    "B"
   ]
  },
  {
   "cell_type": "code",
   "execution_count": 8,
   "id": "comparable-check",
   "metadata": {},
   "outputs": [
    {
     "data": {
      "text/plain": [
       "4.0"
      ]
     },
     "execution_count": 8,
     "metadata": {},
     "output_type": "execute_result"
    }
   ],
   "source": [
    "np.linalg.det(B)"
   ]
  },
  {
   "cell_type": "code",
   "execution_count": 9,
   "id": "subjective-casting",
   "metadata": {},
   "outputs": [
    {
     "data": {
      "text/plain": [
       "array([[ 2,  1, -3],\n",
       "       [ 4, -5,  2],\n",
       "       [ 0, -1,  3]])"
      ]
     },
     "execution_count": 9,
     "metadata": {},
     "output_type": "execute_result"
    }
   ],
   "source": [
    "C = np.array([[2,1,-3], [4,-5,2], [0,-1,3]])\n",
    "C"
   ]
  },
  {
   "cell_type": "code",
   "execution_count": 10,
   "id": "appointed-saver",
   "metadata": {},
   "outputs": [
    {
     "data": {
      "text/plain": [
       "-26.000000000000014"
      ]
     },
     "execution_count": 10,
     "metadata": {},
     "output_type": "execute_result"
    }
   ],
   "source": [
    "np.linalg.det(C)"
   ]
  },
  {
   "cell_type": "code",
   "execution_count": null,
   "id": "parliamentary-cross",
   "metadata": {},
   "outputs": [],
   "source": []
  }
 ],
 "metadata": {
  "kernelspec": {
   "display_name": "Python 3",
   "language": "python",
   "name": "python3"
  },
  "language_info": {
   "codemirror_mode": {
    "name": "ipython",
    "version": 3
   },
   "file_extension": ".py",
   "mimetype": "text/x-python",
   "name": "python",
   "nbconvert_exporter": "python",
   "pygments_lexer": "ipython3",
   "version": "3.8.8"
  }
 },
 "nbformat": 4,
 "nbformat_minor": 5
}
